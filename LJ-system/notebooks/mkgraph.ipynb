{
 "cells": [
  {
   "cell_type": "code",
   "execution_count": 1,
   "id": "ed8a326e-a1dd-42cc-b4ca-3c12c37c02d6",
   "metadata": {},
   "outputs": [
    {
     "name": "stderr",
     "output_type": "stream",
     "text": [
      "WARNING:absl:No GPU/TPU found, falling back to CPU. (Set TF_CPP_MIN_LOG_LEVEL=0 and rerun for more info.)\n"
     ]
    }
   ],
   "source": [
    "import sys, os\n",
    "sys.path.append(\"..\")\n",
    "from importlib import reload\n",
    "import src.dft as dft\n",
    "import src.utils as util\n",
    "from jax_md import space\n",
    "import src.io as io\n",
    "\n",
    "import jax.numpy as jnp\n",
    "import jax\n",
    "from jax import vmap, grad, jacobian\n",
    "from tqdm import tqdm"
   ]
  },
  {
   "cell_type": "code",
   "execution_count": 2,
   "id": "29455e40-88ee-4fb0-acb8-ebd063c797c4",
   "metadata": {},
   "outputs": [],
   "source": [
    "from typing import Any, NamedTuple, Iterable, Mapping, Union, Optional\n",
    "\n",
    "ArrayTree = Union[jnp.ndarray, Iterable['ArrayTree'], Mapping[Any, 'ArrayTree']]\n",
    "\n",
    "class GraphsTuple(NamedTuple):\n",
    "    nodes: Optional[ArrayTree]\n",
    "    edges: Optional[ArrayTree]\n",
    "    receivers: Optional[jnp.ndarray]  # with integer dtype\n",
    "    senders: Optional[jnp.ndarray]  # with integer dtype\n",
    "    globals: Optional[ArrayTree]\n",
    "    n_node: jnp.ndarray  # with integer dtype\n",
    "    n_edge: jnp.ndarray   # with integer dtype\n",
    "    e_order: Optional[jnp.ndarray]    \n",
    "    e_mask: jnp.ndarray\n",
    "    n_mask: jnp.ndarray"
   ]
  },
  {
   "cell_type": "code",
   "execution_count": 3,
   "id": "28a45f02-f1f6-49bc-8493-6a8f8bb4885b",
   "metadata": {},
   "outputs": [],
   "source": [
    "dataloc = \"../data/sio2_201/\"\n",
    "\n",
    "savefile = util.fileloc(io.savefile, dataloc)\n",
    "loadfile = util.fileloc(io.loadfile, dataloc.replace(\"_redo\", \"\"))"
   ]
  },
  {
   "cell_type": "code",
   "execution_count": 4,
   "id": "5991a6a6-45cb-4e08-b2d4-14fb4a870f36",
   "metadata": {},
   "outputs": [],
   "source": [
    "def _batch(graphs, np_):\n",
    "    \"\"\"Returns batched graph given a list of graphs and a numpy-like module.\"\"\"\n",
    "    # Calculates offsets for sender and receiver arrays, caused by concatenating\n",
    "    # the nodes arrays.\n",
    "    offsets = np_.cumsum(\n",
    "        np_.array([0] + [np_.sum(g.n_node) for g in graphs[:-1]]))\n",
    "\n",
    "    edge_order_offsets = np_.cumsum(\n",
    "        np_.array([0] + [len(g.senders) for g in graphs[:-1]]))\n",
    "    \n",
    "    def _map_concat(nests):\n",
    "        concat = lambda *args: np_.concatenate(args)\n",
    "        return jax.tree_multimap(concat, *nests)\n",
    "\n",
    "    return GraphsTuple(\n",
    "        n_node=np_.concatenate([g.n_node for g in graphs]),\n",
    "        n_edge=np_.concatenate([g.n_edge for g in graphs]),\n",
    "        nodes=_map_concat([g.nodes for g in graphs]),\n",
    "        edges=_map_concat([g.edges for g in graphs]),\n",
    "        e_mask=_map_concat([g.e_mask for g in graphs]),\n",
    "        n_mask=_map_concat([g.n_mask for g in graphs]),\n",
    "        e_order=_map_concat([g.e_order + o for g, o in zip(graphs, edge_order_offsets)]),\n",
    "        globals=_map_concat([g.globals for g in graphs]),\n",
    "        senders=np_.concatenate([g.senders + o for g, o in zip(graphs, offsets)]),\n",
    "        receivers=np_.concatenate(\n",
    "          [g.receivers + o for g, o in zip(graphs, offsets)]))\n"
   ]
  },
  {
   "cell_type": "code",
   "execution_count": 5,
   "id": "63438e17-a8b0-42f8-aa1c-137dcdfd3e17",
   "metadata": {},
   "outputs": [],
   "source": [
    "def pad_with_graphs(graph: GraphsTuple,\n",
    "                    n_node: int,\n",
    "                    n_edge: int,\n",
    "                    n_graph: int = 2) -> GraphsTuple:\n",
    "    \"\"\"Pads a ``GraphsTuple`` to size by adding computation preserving graphs.\n",
    "    The ``GraphsTuple`` is padded by first adding a dummy graph which contains the\n",
    "    padding nodes and edges, and then empty graphs without nodes or edges.\n",
    "    The empty graphs and the dummy graph do not interfer with the graphnet\n",
    "    calculations on the original graph, and so are computation preserving.\n",
    "    The padding graph requires at least one node and one graph.\n",
    "    This function does not support jax.jit, because the shape of the output\n",
    "    is data-dependent.\n",
    "    Args:\n",
    "    graph: ``GraphsTuple`` padded with dummy graph and empty graphs.\n",
    "    n_node: the number of nodes in the padded ``GraphsTuple``.\n",
    "    n_edge: the number of edges in the padded ``GraphsTuple``.\n",
    "    n_graph: the number of graphs in the padded ``GraphsTuple``. Default is 2,\n",
    "      which is the lowest possible value, because we always have at least one\n",
    "      graph in the original ``GraphsTuple`` and we need one dummy graph for the\n",
    "      padding.\n",
    "    Raises:\n",
    "    ValueError: if the passed ``n_graph`` is smaller than 2.\n",
    "    RuntimeError: if the given ``GraphsTuple`` is too large for the given\n",
    "      padding.\n",
    "    Returns:\n",
    "    A padded ``GraphsTuple``.\n",
    "    \"\"\"\n",
    "    np = jnp\n",
    "    if n_graph < 2:\n",
    "        raise ValueError(\n",
    "            f'n_graph is {n_graph}, which is smaller than minimum value of 2.')\n",
    "    graph = jax.device_get(graph)\n",
    "    pad_n_node = int(n_node - np.sum(graph.n_node))\n",
    "    pad_n_edge = int(n_edge - np.sum(graph.n_edge))\n",
    "    pad_n_graph = int(n_graph - graph.n_node.shape[0])\n",
    "    if pad_n_node <= 0 or pad_n_edge < 0 or pad_n_graph <= 0:\n",
    "        raise RuntimeError(\n",
    "            'Given graph is too large for the given padding. difference: '\n",
    "            f'n_node {pad_n_node}, n_edge {pad_n_edge}, n_graph {pad_n_graph}')\n",
    "\n",
    "    pad_n_empty_graph = pad_n_graph - 1\n",
    "\n",
    "    tree_nodes_pad = (\n",
    "        lambda leaf: np.zeros((pad_n_node,) + leaf.shape[1:], dtype=leaf.dtype))\n",
    "    tree_edges_pad = (\n",
    "        lambda leaf: np.zeros((pad_n_edge,) + leaf.shape[1:], dtype=leaf.dtype))\n",
    "    tree_globs_pad = (\n",
    "        lambda leaf: np.zeros((pad_n_graph,) + leaf.shape[1:], dtype=leaf.dtype))\n",
    "\n",
    "    padding_graph = GraphsTuple(\n",
    "        n_node=np.concatenate(\n",
    "          [np.array([pad_n_node], dtype=np.int32),\n",
    "           np.zeros(pad_n_empty_graph, dtype=np.int32)]),\n",
    "        n_edge=np.concatenate(\n",
    "          [np.array([pad_n_edge], dtype=np.int32),\n",
    "           np.zeros(pad_n_empty_graph, dtype=np.int32)]),\n",
    "        nodes=jax.tree_map(tree_nodes_pad, graph.nodes),\n",
    "        edges=jax.tree_map(tree_edges_pad, graph.edges),\n",
    "        globals=jax.tree_map(tree_globs_pad, graph.globals),\n",
    "        senders=np.zeros(pad_n_edge, dtype=np.int32),\n",
    "        receivers=np.zeros(pad_n_edge, dtype=np.int32),\n",
    "        e_order=jax.tree_map(tree_edges_pad, graph.e_order),\n",
    "        e_mask=jax.tree_map(tree_edges_pad, graph.e_mask),\n",
    "        n_mask=jax.tree_map(tree_nodes_pad, graph.n_mask),\n",
    "    )\n",
    "    return _batch([graph, padding_graph], np_=np)"
   ]
  },
  {
   "cell_type": "code",
   "execution_count": 6,
   "id": "f8babb26-07cf-4a3e-8c0b-0979064bb6dd",
   "metadata": {},
   "outputs": [],
   "source": [
    "def PADGRAPH(graph, max_edges):\n",
    "    try:\n",
    "        return pad_with_graphs(graph, graph.n_node.sum()+1, max_edges+1)\n",
    "    except:\n",
    "        max_edges += int(0.1*max_edges) + 1\n",
    "        return PADGRAPH(graph, max_edges)\n",
    "\n",
    "def mkgraph(*args, mass=None, L=None, max_edges=None, atoms=None, **kwargs):\n",
    "    nodes = kwargs[\"nodes\"]\n",
    "    if mass is not None:\n",
    "        nodes[\"mass\"] = mass[nodes[\"type\"]]\n",
    "    graph = GraphsTuple(*args, \n",
    "                        e_mask=jnp.ones(kwargs[\"senders\"].shape, dtype=bool), \n",
    "                        n_mask=jnp.ones(jnp.sum(kwargs[\"n_node\"]), dtype=bool), \n",
    "                        **kwargs)\n",
    "    return PADGRAPH(graph, max_edges)\n",
    "\n",
    "def samegraph(*args, L=None, atoms=None, **kwargs):\n",
    "    graph = GraphsTuple(*args, \n",
    "                        e_mask=jnp.ones(kwargs[\"senders\"].shape, dtype=bool), \n",
    "                        n_mask=jnp.ones(jnp.sum(kwargs[\"n_node\"]), dtype=bool), \n",
    "                        **kwargs)\n",
    "    return graph\n"
   ]
  },
  {
   "cell_type": "code",
   "execution_count": 11,
   "id": "132f36b1-d3f5-4696-a884-bb382542d921",
   "metadata": {},
   "outputs": [
    {
     "name": "stdout",
     "output_type": "stream",
     "text": [
      "3557\n"
     ]
    }
   ],
   "source": [
    "graphs, _ = loadfile(\"graphs_dicts.pkl\", tag=\"graphs/\")\n",
    "\n",
    "max_edges = max([len(g[\"senders\"]) for g in graphs])\n",
    "print(max_edges)"
   ]
  },
  {
   "cell_type": "code",
   "execution_count": 10,
   "id": "12f01b38-95a2-41de-8390-96f11d2e5aa4",
   "metadata": {},
   "outputs": [
    {
     "data": {
      "text/plain": [
       "(201, 3)"
      ]
     },
     "execution_count": 10,
     "metadata": {},
     "output_type": "execute_result"
    }
   ],
   "source": [
    "graphs[0]['nodes']['position'].shape"
   ]
  },
  {
   "cell_type": "code",
   "execution_count": 8,
   "id": "ffccdc1e-6efb-4ef3-80e1-6338b28aa087",
   "metadata": {},
   "outputs": [
    {
     "name": "stderr",
     "output_type": "stream",
     "text": [
      "  0%|                                                                                 | 0/868 [00:00<?, ?it/s]/home/ravinder/VENV/jax_cpu/lib/python3.8/site-packages/jax/_src/numpy/lax_numpy.py:1925: UserWarning: Explicitly requested dtype float64 requested in zeros is not available, and will be truncated to dtype float32. To enable more dtypes, set the jax_enable_x64 configuration option or the JAX_ENABLE_X64 shell environment variable. See https://github.com/google/jax#current-gotchas for more.\n",
      "  lax_internal._check_user_dtype_supported(dtype, \"zeros\")\n",
      "/home/ravinder/VENV/jax_cpu/lib/python3.8/site-packages/jax/_src/tree_util.py:189: FutureWarning: jax.tree_util.tree_multimap() is deprecated. Please use jax.tree_util.tree_map() instead as a drop-in replacement.\n",
      "  warnings.warn('jax.tree_util.tree_multimap() is deprecated. Please use jax.tree_util.tree_map() '\n",
      "100%|███████████████████████████████████████████████████████████████████████| 868/868 [00:11<00:00, 75.17it/s]\n"
     ]
    }
   ],
   "source": [
    "mass = jnp.array([16.0, 28.0])\n",
    "\n",
    "GRAPHS = []\n",
    "for g in tqdm(graphs[::10]):\n",
    "    GRAPHS += [mkgraph(**g, max_edges=max_edges, globals=None)]"
   ]
  },
  {
   "cell_type": "code",
   "execution_count": 9,
   "id": "adea8f0b-81c1-4d62-b7d9-c0ee6b81c366",
   "metadata": {},
   "outputs": [],
   "source": [
    "savefile(\"mkgraphs_dicts.pkl\", GRAPHS, tag=\"graphs/\")"
   ]
  },
  {
   "cell_type": "code",
   "execution_count": null,
   "id": "1e53ea8e-b1fe-4a33-88c6-47b9692872e2",
   "metadata": {},
   "outputs": [],
   "source": []
  }
 ],
 "metadata": {
  "kernelspec": {
   "display_name": "Python 3",
   "language": "python",
   "name": "python3"
  },
  "language_info": {
   "codemirror_mode": {
    "name": "ipython",
    "version": 3
   },
   "file_extension": ".py",
   "mimetype": "text/x-python",
   "name": "python",
   "nbconvert_exporter": "python",
   "pygments_lexer": "ipython3",
   "version": "3.11.1"
  },
  "vscode": {
   "interpreter": {
    "hash": "aee8b7b246df8f9039afb4144a1f6fd8d2ca17a180786b69acc140d282b71a49"
   }
  }
 },
 "nbformat": 4,
 "nbformat_minor": 5
}
